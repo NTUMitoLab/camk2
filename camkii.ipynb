{
 "cells": [
  {
   "cell_type": "code",
   "execution_count": 1,
   "metadata": {},
   "outputs": [],
   "source": [
    "import sympy as sp\n",
    "import math\n",
    "\n",
    "sp.init_printing()"
   ]
  },
  {
   "cell_type": "code",
   "execution_count": 2,
   "metadata": {},
   "outputs": [],
   "source": [
    "# Utility functions\n",
    "\n",
    "def make_symbol(name, upper=None, lower=None, expr=None, nonnegative=True, **kwargs):\n",
    "    if upper:\n",
    "        name += \"^{%s}\" % upper\n",
    "    if lower:\n",
    "        name += \"_{%s}\" % lower\n",
    "    sym = sp.Symbol(name, nonnegative=nonnegative, **kwargs)\n",
    "    \n",
    "    if expr:\n",
    "        return sp.Eq(sym, expr, evaluate=True)\n",
    "    else:\n",
    "        return sym\n",
    "    \n",
    "\n",
    "def make_concentration(name, valence=0, label=None, **kwargs):\n",
    "    if valence > 0:\n",
    "        sign = \"+\"\n",
    "    elif valence < 0:\n",
    "        sign = \"-\"\n",
    "    else:\n",
    "        sign = \"\"\n",
    "    \n",
    "    valence = abs(valence)\n",
    "    \n",
    "    if (valence > 1):\n",
    "        valence = str(valence)\n",
    "    else:\n",
    "        valence = \"\"\n",
    "        \n",
    "    name = \"[%s^{%s%s}]\" % (name, valence, sign) \n",
    "    return make_symbol(name, upper=None, lower=label, expr=None, nonnegative=True, **kwargs)"
   ]
  },
  {
   "cell_type": "code",
   "execution_count": 3,
   "metadata": {},
   "outputs": [
    {
     "data": {
      "image/png": "[encoded data removed]",
      "text/latex": [
       "$$[Ca^{2+}]_{mito}$$"
      ],
      "text/plain": [
       "[Ca_{mito}__{2+}]"
      ]
     },
     "execution_count": 3,
     "metadata": {},
     "output_type": "execute_result"
    }
   ],
   "source": [
    "# Test it works \n",
    "make_concentration('Ca', +2, 'mito')"
   ]
  },
  {
   "cell_type": "code",
   "execution_count": 4,
   "metadata": {},
   "outputs": [
    {
     "data": {
      "image/png": "[encoded data removed]",
      "text/latex": [
       "$$[Na^{+}]$$"
      ],
      "text/plain": [
       "[Na__{+}]"
      ]
     },
     "execution_count": 4,
     "metadata": {},
     "output_type": "execute_result"
    }
   ],
   "source": [
    "make_concentration('Na', +1)"
   ]
  },
  {
   "cell_type": "code",
   "execution_count": 5,
   "metadata": {},
   "outputs": [],
   "source": [
    "# Calmodulin model\n",
    "\n",
    "def get_v_ca(kf, kb, ca, a ,b):\n",
    "    \"\"\" a + Ca <-> b \"\"\"\n",
    "    return -kf * ca * a + kb * b\n",
    "\n",
    "\n",
    "def get_rates_cam_ca(cam_cas, ca, cam_total, k1, km1, k2, km2, k3, km3, k4, km4):\n",
    "    \"\"\" returns dCaMCai /dt \"\"\"\n",
    "    cam = cam_total - sum(cam_cas)\n",
    "    ca1 = get_v_ca(k1, km1, ca, cam, cam_cas[0])\n",
    "    ca2 = get_v_ca(k2, km2, ca, cam_cas[0], cam_cas[1])\n",
    "    ca3 = get_v_ca(k3, km3, ca, cam_cas[1], cam_cas[2])\n",
    "    ca4 = get_v_ca(k4, km4, ca, cam_cas[2], cam_cas[3])\n",
    "    \n",
    "    return [-ca1 + c22, -ca2 + ca3, -ca3 + ca4, -ca4]"
   ]
  },
  {
   "cell_type": "code",
   "execution_count": 8,
   "metadata": {},
   "outputs": [],
   "source": [
    "def get_rates_camkii(camkiis, camca4, ca, camkii_total, atp, pp1, k_asso, k_disso, k_disso_ca, k_disso2, k_disso_ca2, km_cam, kcat, km_atp, kcat_pp1, km_pp1):\n",
    "    \"\"\"CaMKII model\"\"\"\n",
    "    \n",
    "    camkii_camca4, camkii_p_camca4, camkii_p = camkiis\n",
    "    camkii = camkii_total - camkii_camca4 - camkii_p_camca4 - camkii_p\n",
    "    \n",
    "    # Association of CaMKII and CaMCa4\n",
    "    a1 = k_asso * camkii * camca4\n",
    "    \n",
    "    # Dissociation of CaMKII and CaMCa4\n",
    "    km_cam_portion = 1 / (1 + (ca / km_cam)**3)\n",
    "    a2 = (k_disso * (1 - km_cam_portion) + k_disso_ca * km_cam_portion) * camkii_camca4\n",
    "    \n",
    "    # Autophosphorylation of CaMKII subunits\n",
    "    p = 1 - (camkii / camkii_total)**2\n",
    "    b1 = kcat * p * (1 / (1 + (km_atp / atp))) * camkii_p_camca4\n",
    "    \n",
    "    # Dephosphorylation by phosphorylase (PP1)\n",
    "    b2 = kcat_pp1 * pp1 * (1 / (1 + (km_pp1 / camkii_p_camca4)))\n",
    "    d1 = kcat_pp1 * pp1 * (1 / (1 + (km_pp1 / camkii_p)))\n",
    "    \n",
    "    # Dissociation of CaMKII-p and CaMCa4 (1000x slower)\n",
    "    c1 = (k_disso2 * (1 - km_cam_portion) + k_disso_ca2 * km_cam_portion) * camkii_p_camca4\n",
    "    \n",
    "    # Association of CaMKII-p and CaMCa4\n",
    "    c2 = k_asso * camkii_p * camca4\n",
    "    \n",
    "    return [a1 - a2 - b1 + b2, b1 - b2 - c1 + c2, c1 - c2 - d1]"
   ]
  },
  {
   "cell_type": "code",
   "execution_count": null,
   "metadata": {},
   "outputs": [],
   "source": [
    "def full_model(t, y, ca, cam_total, k1, km1, k2, km2, k3, km3, k4, km4, \n",
    "               camkii_total, atp, k_asso, k_disso, k_disso_ca, k_disso2, k_disso_ca2, \n",
    "               km_cam, kcat, km_atp, kcat_pp1, km_pp1):\n",
    "    cam_cas = y[:4]\n",
    "    camca4 = cam_cas[3]\n",
    "    camkiis = y[4:]\n",
    "    v_cam_ca = get_rates_cam_ca(cam_cas, ca, cam_total, k1, km1, k2, km2, k3, km3, k4, km4)\n",
    "    v_camkii = get_rates_camkii(camkiis, camca4, ca, camkii_total, atp, pp1, k_asso, k_disso, k_disso_ca, k_disso2, k_disso_ca2, km_cam, kcat, km_atp, kcat_pp1, km_pp1)\n",
    "    return v_cam_ca + v_camkii\n",
    "    "
   ]
  },
  {
   "cell_type": "code",
   "execution_count": 7,
   "metadata": {},
   "outputs": [],
   "source": [
    "# Ca transient model (not used)\n",
    "def get_d_ca(t, ca, k_p, k_m, q_m, q_rest, t_p):\n",
    "    q_pump = k_p / (1 + (k_m/ca)**2)\n",
    "    t_ratio = t / t_p\n",
    "    q_rel = q_rest + q_m * (t_ratio * math.exp(1 - t_ratio))**4\n",
    "    return [q_rel - q_pump]"
   ]
  },
  {
   "cell_type": "code",
   "execution_count": null,
   "metadata": {},
   "outputs": [],
   "source": [
    "# Constants\n",
    "\n",
    "CAM_TOTAL = 6e-3\n",
    "K1 = 2.5\n",
    "KM1 = KM2 = 0.05\n",
    "K2 = 88.25\n",
    "K3 = 12.5\n",
    "KM3, KM4 = 1.25\n",
    "K4 = 250\n",
    "K_ASSO = 2.1\n",
    "K_DISSO_ALPHA, K_DISSO_DELTA = 1.4E-4, 0.7E-4\n",
    "K_DISSO_CA_ALPHA, K_DISSO_CA_DELTA = 1.9E-3, 0.95E-3\n",
    "K_DISSO2_ALPHA, K_DISSO2_DELTA = K_DISSO_ALPHA * 1e-3, K_DISSO_DELTA * 1e-3\n",
    "K_DISSO2_CA_ALPHA, K_DISSO2_CA_DELTA = K_DISSO_CA_ALPHA * 1e-3, K_DISSO_CA_DELTA * 1e-3\n",
    "KM_CAM = 3E-5\n",
    "KCAT_0_ALPHA,  KCAT_0_DELTA= 1E-5, 6E-5\n",
    "KCAT_30_ALPHA, KCAT_30_DELTA = 3E-4, 1.8E-3\n",
    "KCAT_37_ALPHA, KCAT_37_DELTA = 9E-4, 5.4E-3\n",
    "KM_ATP = 19.1E-3\n",
    "KCAT_PP1 = 1.72E-3\n",
    "KM_PP1 = 11.0E-3\n"
   ]
  }
 ],
 "metadata": {
  "kernelspec": {
   "display_name": "Python 3",
   "language": "python",
   "name": "python3"
  },
  "language_info": {
   "codemirror_mode": {
    "name": "ipython",
    "version": 3
   },
   "file_extension": ".py",
   "mimetype": "text/x-python",
   "name": "python",
   "nbconvert_exporter": "python",
   "pygments_lexer": "ipython3",
   "version": "3.6.5"
  }
 },
 "nbformat": 4,
 "nbformat_minor": 2
}
