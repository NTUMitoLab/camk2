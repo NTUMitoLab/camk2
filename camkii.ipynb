{
 "cells": [
  {
   "cell_type": "code",
   "execution_count": 1,
   "metadata": {},
   "outputs": [],
   "source": [
    "import sympy as sp\n",
    "\n",
    "sp.init_printing()"
   ]
  },
  {
   "cell_type": "code",
   "execution_count": 11,
   "metadata": {},
   "outputs": [],
   "source": [
    "# Utility functions\n",
    "\n",
    "def make_symbol(name, upper=None, lower=None, expr=None, nonnegative=True, **kwargs):\n",
    "    if upper:\n",
    "        name += \"^{%s}\" % upper\n",
    "    if lower:\n",
    "        name += \"_{%s}\" % lower\n",
    "    sym = sp.Symbol(name, nonnegative=nonnegative, **kwargs)\n",
    "    \n",
    "    if expr:\n",
    "        return sp.Eq(sym, expr, evaluate=True)\n",
    "    else:\n",
    "        return sym\n",
    "    \n",
    "\n",
    "def make_concentration(name, valence=0, label=None, **kwargs):\n",
    "    if valence > 0:\n",
    "        sign = \"+\"\n",
    "    elif valence < 0:\n",
    "        sign = \"-\"\n",
    "    else:\n",
    "        sign = \"\"\n",
    "        \n",
    "    name = \"[%s^{%d%s}]\" % (name, valence, sign) \n",
    "    return make_symbol(name, upper=None, lower=label, expr=None, nonnegative=True, **kwargs)"
   ]
  },
  {
   "cell_type": "code",
   "execution_count": 12,
   "metadata": {},
   "outputs": [
    {
     "data": {
      "image/png": "[encoded data removed]",
      "text/latex": [
       "$$[Ca^{2+}]_{mito}$$"
      ],
      "text/plain": [
       "[Ca_{mito}__{2+}]"
      ]
     },
     "execution_count": 12,
     "metadata": {},
     "output_type": "execute_result"
    }
   ],
   "source": [
    "make_concentration('Ca', +2, 'mito')"
   ]
  },
  {
   "cell_type": "code",
   "execution_count": null,
   "metadata": {},
   "outputs": [],
   "source": []
  }
 ],
 "metadata": {
  "kernelspec": {
   "display_name": "Python 3",
   "language": "python",
   "name": "python3"
  },
  "language_info": {
   "codemirror_mode": {
    "name": "ipython",
    "version": 3
   },
   "file_extension": ".py",
   "mimetype": "text/x-python",
   "name": "python",
   "nbconvert_exporter": "python",
   "pygments_lexer": "ipython3",
   "version": "3.6.5"
  }
 },
 "nbformat": 4,
 "nbformat_minor": 2
}
